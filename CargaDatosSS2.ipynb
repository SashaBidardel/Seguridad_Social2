{
 "cells": [
  {
   "cell_type": "code",
   "execution_count": 1,
   "id": "9a94df20-4192-42f4-a282-e553fd8f84b6",
   "metadata": {},
   "outputs": [
    {
     "name": "stdout",
     "output_type": "stream",
     "text": [
      "Requirement already satisfied: pandas in c:\\users\\usuario\\anaconda3\\lib\\site-packages (1.5.3)Note: you may need to restart the kernel to use updated packages.\n",
      "\n",
      "Requirement already satisfied: sqlalchemy in c:\\users\\usuario\\anaconda3\\lib\\site-packages (1.4.39)\n",
      "Requirement already satisfied: python-dateutil>=2.8.1 in c:\\users\\usuario\\anaconda3\\lib\\site-packages (from pandas) (2.8.2)\n",
      "Requirement already satisfied: numpy>=1.21.0 in c:\\users\\usuario\\anaconda3\\lib\\site-packages (from pandas) (1.23.5)\n",
      "Requirement already satisfied: pytz>=2020.1 in c:\\users\\usuario\\anaconda3\\lib\\site-packages (from pandas) (2022.7)\n",
      "Requirement already satisfied: greenlet!=0.4.17 in c:\\users\\usuario\\anaconda3\\lib\\site-packages (from sqlalchemy) (2.0.1)\n",
      "Requirement already satisfied: six>=1.5 in c:\\users\\usuario\\anaconda3\\lib\\site-packages (from python-dateutil>=2.8.1->pandas) (1.16.0)\n"
     ]
    }
   ],
   "source": [
    "pip install pandas sqlalchemy\n"
   ]
  },
  {
   "cell_type": "code",
   "execution_count": 4,
   "id": "5cb242fb-88c7-4336-a70d-7a6d968ec35c",
   "metadata": {},
   "outputs": [
    {
     "name": "stdout",
     "output_type": "stream",
     "text": [
      "Collecting mysql-connector-python\n",
      "  Downloading mysql_connector_python-8.2.0-cp310-cp310-win_amd64.whl (14.2 MB)\n",
      "     --------------------------------------- 14.2/14.2 MB 13.9 MB/s eta 0:00:00\n",
      "Collecting protobuf<=4.21.12,>=4.21.1\n",
      "  Downloading protobuf-4.21.12-cp310-abi3-win_amd64.whl (527 kB)\n",
      "     ------------------------------------- 527.0/527.0 kB 11.2 MB/s eta 0:00:00\n",
      "Installing collected packages: protobuf, mysql-connector-python\n",
      "Successfully installed mysql-connector-python-8.2.0 protobuf-4.21.12\n",
      "Note: you may need to restart the kernel to use updated packages.\n"
     ]
    }
   ],
   "source": [
    "pip install mysql-connector-python\n"
   ]
  },
  {
   "cell_type": "code",
   "execution_count": 36,
   "id": "e2f67239-cc42-41ca-abb8-c45a08ce54b7",
   "metadata": {},
   "outputs": [
    {
     "name": "stdout",
     "output_type": "stream",
     "text": [
      "Datos cargados en la tabla \"datos\".\n"
     ]
    }
   ],
   "source": [
    "import pandas as pd\n",
    "from sqlalchemy import create_engine\n",
    "\n",
    "# Ruta al archivo Excel (xlsx)\n",
    "excel_path = r'C:\\Users\\USUARIO\\Downloads\\sscomplementos3.xlsx'\n",
    "\n",
    "# Configuración de la conexión a la base de datos MySQL\n",
    "db_config = {\n",
    "    'host': 'localhost',\n",
    "    'user': 'root', \n",
    "    'port': 3306, \n",
    "    'password': '', \n",
    "    'database': 'pensiones' \n",
    "}\n",
    "\n",
    "# Crear una conexión a la base de datos MySQL\n",
    "engine = create_engine(f\"mysql+mysqlconnector://{db_config['user']}:{db_config['password']}@{db_config['host']}:{db_config['port']}/{db_config['database']}\")\n",
    "\n",
    "# Leer el archivo Excel en un DataFrame\n",
    "df = pd.read_excel(excel_path)\n",
    "\n",
    "# Definir el nombre de la tabla en la base de datos\n",
    "table_name = 'datos'  \n",
    "\n",
    "# Cargar los datos en la tabla de la base de datos y reemplazar si ya existen\n",
    "df.to_sql(table_name, con=engine, if_exists='replace', index=False)\n",
    "\n",
    "print(f'Datos cargados en la tabla \"{table_name}\".')\n"
   ]
  },
  {
   "cell_type": "code",
   "execution_count": null,
   "id": "2527a3cb-2d19-48f0-99f8-d5a17ec0032e",
   "metadata": {},
   "outputs": [],
   "source": []
  }
 ],
 "metadata": {
  "kernelspec": {
   "display_name": "Python 3 (ipykernel)",
   "language": "python",
   "name": "python3"
  },
  "language_info": {
   "codemirror_mode": {
    "name": "ipython",
    "version": 3
   },
   "file_extension": ".py",
   "mimetype": "text/x-python",
   "name": "python",
   "nbconvert_exporter": "python",
   "pygments_lexer": "ipython3",
   "version": "3.10.9"
  }
 },
 "nbformat": 4,
 "nbformat_minor": 5
}
